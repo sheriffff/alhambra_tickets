{
 "cells": [
  {
   "cell_type": "code",
   "execution_count": 1,
   "metadata": {},
   "outputs": [
    {
     "ename": "ModuleNotFoundError",
     "evalue": "No module named 'selenium'",
     "output_type": "error",
     "traceback": [
      "\u001b[0;31m---------------------------------------------------------------------------\u001b[0m",
      "\u001b[0;31mModuleNotFoundError\u001b[0m                       Traceback (most recent call last)",
      "\u001b[0;32m<ipython-input-1-93833772b63f>\u001b[0m in \u001b[0;36m<module>\u001b[0;34m\u001b[0m\n\u001b[0;32m----> 1\u001b[0;31m \u001b[0;32mfrom\u001b[0m \u001b[0mselenium\u001b[0m \u001b[0;32mimport\u001b[0m \u001b[0mwebdriver\u001b[0m\u001b[0;34m\u001b[0m\u001b[0;34m\u001b[0m\u001b[0m\n\u001b[0m",
      "\u001b[0;31mModuleNotFoundError\u001b[0m: No module named 'selenium'"
     ]
    }
   ],
   "source": [
    "from selenium import webdriver"
   ]
  },
  {
   "cell_type": "code",
   "execution_count": 5,
   "metadata": {},
   "outputs": [
    {
     "ename": "TypeError",
     "evalue": "'module' object is not callable",
     "output_type": "error",
     "traceback": [
      "\u001b[0;31m---------------------------------------------------------------------------\u001b[0m",
      "\u001b[0;31mTypeError\u001b[0m                                 Traceback (most recent call last)",
      "\u001b[0;32m<ipython-input-5-1e80f7a2c470>\u001b[0m in \u001b[0;36m<module>\u001b[0;34m\u001b[0m\n\u001b[0;32m----> 1\u001b[0;31m \u001b[0mdriver\u001b[0m \u001b[0;34m=\u001b[0m \u001b[0mwebdriver\u001b[0m\u001b[0;34m(\u001b[0m\u001b[0;34m\"./chromedriver\"\u001b[0m\u001b[0;34m)\u001b[0m\u001b[0;34m\u001b[0m\u001b[0;34m\u001b[0m\u001b[0m\n\u001b[0m",
      "\u001b[0;31mTypeError\u001b[0m: 'module' object is not callable"
     ]
    }
   ],
   "source": [
    "driver = webdriver(\"./chromedriver\")"
   ]
  },
  {
   "cell_type": "code",
   "execution_count": 7,
   "metadata": {},
   "outputs": [
    {
     "name": "stdout",
     "output_type": "stream",
     "text": [
      "pygame 1.9.6\n",
      "Hello from the pygame community. https://www.pygame.org/contribute.html\n"
     ]
    }
   ],
   "source": [
    "import time\n",
    "from selenium import webdriver\n",
    "from selenium.webdriver.common.keys import Keys\n",
    "\n",
    "import datetime\n",
    "\n",
    "import pygame\n",
    "\n",
    "# abrir web Alhambra\n",
    "url_alhambra = 'https://compratickets.alhambra-patronato.es/reservarEntradas.aspx/?opc=2&gid=2&lg=es&ca=0'\n",
    "# audio si hay entradas\n",
    "clip_good = './alhambra.wav'\n",
    "clip_error = './error.wav'\n",
    "\n",
    "def sacar_entrada():\n",
    "    driver.get(url_alhambra)\n",
    "    time.sleep(5)\n",
    "    # elige 2 entradas\n",
    "    n_entradas = 2\n",
    "\n",
    "    for _ in range(n_entradas):\n",
    "\n",
    "        boton_mas = driver.find_element_by_name(\"ctl00$ContentMaster1$ucReservarEntradasAlhambra1$rptGruposEntradas$ctl00$rptEntradas$ctl00$btnMas\")\n",
    "        boton_mas.send_keys(Keys.RETURN)\n",
    "        time.sleep(5)\n",
    "\n",
    "    # pulsa IR A PASO 2\n",
    "    boton_paso2 = driver.find_element_by_name(\"ctl00$ContentMaster1$ucReservarEntradasAlhambra1$btnIrPaso2\")\n",
    "    boton_paso2.send_keys(Keys.RETURN)\n",
    "    time.sleep(5)\n",
    "\n",
    "    # chequea si hay libres tus dias\n",
    "    naranjas = driver.find_elements_by_xpath('//td[@data-estado=\"naranja\"]')\n",
    "    mis_dias = {8, 9, 10, 11, 12}\n",
    "    dias_dispo = [int(n.text) for n in naranjas]\n",
    "    dias_compra = list(mis_dias.intersection(dias_dispo))\n",
    "\n",
    "    if len(dias_compra) > 0:\n",
    "        return True\n",
    "        \"\"\"\n",
    "        dia_visita = dias_compra[0]\n",
    "        boton_dia = naranjas[dias_dispo.index(dia_visita)]\n",
    "        boton_dia.click()\n",
    "\n",
    "        time.sleep(1)\n",
    "\n",
    "        # elige hora\n",
    "        horas = driver.find_element_by_class_name('hours-select')\n",
    "\n",
    "        primera_hora = horas.find_element_by_tag_name('label')\n",
    "        primera_hora.click()\n",
    "        time.sleep(1)\n",
    "\n",
    "        # pulsa IR A PASO 3\n",
    "        boton_paso3 = driver.find_element_by_name(\"ctl00$ContentMaster1$ucReservarEntradasAlhambra1$btnIrPaso3\")\n",
    "        boton_paso3.click()\n",
    "        \n",
    "        return True\n",
    "        \"\"\"\n",
    "\n",
    "    else:\n",
    "        return False\n",
    "\n",
    "def play_clip(clip, sleep, times=1000):\n",
    "    pygame.mixer.init()\n",
    "    pygame.mixer.music.load(clip)\n",
    "\n",
    "    for _ in range(times):\n",
    "        pygame.mixer.music.play()\n",
    "        time.sleep(sleep)"
   ]
  },
  {
   "cell_type": "code",
   "execution_count": 11,
   "metadata": {},
   "outputs": [
    {
     "name": "stdout",
     "output_type": "stream",
     "text": [
      "Sesion 0\n",
      "ERROR Message: no such element: Unable to locate element: {\"method\":\"css selector\",\"selector\":\"[name=\"ctl00$ContentMaster1$ucReservarEntradasAlhambra1$rptGruposEntradas$ctl00$rptEntradas$ctl00$btnMas\"]\"}\n",
      "  (Session info: chrome=85.0.4183.121)\n",
      " Mon Oct  5 16:32:47 2020\n",
      "Sesion 1\n",
      "ERROR Message: no such element: Unable to locate element: {\"method\":\"css selector\",\"selector\":\"[name=\"ctl00$ContentMaster1$ucReservarEntradasAlhambra1$rptGruposEntradas$ctl00$rptEntradas$ctl00$btnMas\"]\"}\n",
      "  (Session info: chrome=85.0.4183.121)\n",
      " Mon Oct  5 16:32:55 2020\n",
      "Sesion 2\n"
     ]
    },
    {
     "ename": "KeyboardInterrupt",
     "evalue": "",
     "output_type": "error",
     "traceback": [
      "\u001b[0;31m---------------------------------------------------------------------------\u001b[0m",
      "\u001b[0;31mKeyboardInterrupt\u001b[0m                         Traceback (most recent call last)",
      "\u001b[0;32m<ipython-input-11-a62badc65395>\u001b[0m in \u001b[0;36m<module>\u001b[0;34m\u001b[0m\n\u001b[1;32m      6\u001b[0m \u001b[0;34m\u001b[0m\u001b[0m\n\u001b[1;32m      7\u001b[0m         \u001b[0;32mfor\u001b[0m \u001b[0mi\u001b[0m \u001b[0;32min\u001b[0m \u001b[0mrange\u001b[0m\u001b[0;34m(\u001b[0m\u001b[0;36m1000\u001b[0m\u001b[0;34m)\u001b[0m\u001b[0;34m:\u001b[0m\u001b[0;34m\u001b[0m\u001b[0;34m\u001b[0m\u001b[0m\n\u001b[0;32m----> 8\u001b[0;31m             \u001b[0;32mif\u001b[0m \u001b[0msacar_entrada\u001b[0m\u001b[0;34m(\u001b[0m\u001b[0;34m)\u001b[0m\u001b[0;34m:\u001b[0m\u001b[0;34m\u001b[0m\u001b[0;34m\u001b[0m\u001b[0m\n\u001b[0m\u001b[1;32m      9\u001b[0m                 \u001b[0mprint\u001b[0m\u001b[0;34m(\u001b[0m\u001b[0;34m'CORRE'\u001b[0m\u001b[0;34m)\u001b[0m\u001b[0;34m\u001b[0m\u001b[0;34m\u001b[0m\u001b[0m\n\u001b[1;32m     10\u001b[0m                 \u001b[0mplay_clip\u001b[0m\u001b[0;34m(\u001b[0m\u001b[0mclip_good\u001b[0m\u001b[0;34m,\u001b[0m \u001b[0msleep\u001b[0m\u001b[0;34m=\u001b[0m\u001b[0;36m6\u001b[0m\u001b[0;34m)\u001b[0m\u001b[0;34m\u001b[0m\u001b[0;34m\u001b[0m\u001b[0m\n",
      "\u001b[0;32m<ipython-input-7-aa27df851c88>\u001b[0m in \u001b[0;36msacar_entrada\u001b[0;34m()\u001b[0m\n\u001b[1;32m     15\u001b[0m \u001b[0;32mdef\u001b[0m \u001b[0msacar_entrada\u001b[0m\u001b[0;34m(\u001b[0m\u001b[0;34m)\u001b[0m\u001b[0;34m:\u001b[0m\u001b[0;34m\u001b[0m\u001b[0;34m\u001b[0m\u001b[0m\n\u001b[1;32m     16\u001b[0m     \u001b[0mdriver\u001b[0m\u001b[0;34m.\u001b[0m\u001b[0mget\u001b[0m\u001b[0;34m(\u001b[0m\u001b[0murl_alhambra\u001b[0m\u001b[0;34m)\u001b[0m\u001b[0;34m\u001b[0m\u001b[0;34m\u001b[0m\u001b[0m\n\u001b[0;32m---> 17\u001b[0;31m     \u001b[0mtime\u001b[0m\u001b[0;34m.\u001b[0m\u001b[0msleep\u001b[0m\u001b[0;34m(\u001b[0m\u001b[0;36m5\u001b[0m\u001b[0;34m)\u001b[0m\u001b[0;34m\u001b[0m\u001b[0;34m\u001b[0m\u001b[0m\n\u001b[0m\u001b[1;32m     18\u001b[0m     \u001b[0;31m# elige 2 entradas\u001b[0m\u001b[0;34m\u001b[0m\u001b[0;34m\u001b[0m\u001b[0;34m\u001b[0m\u001b[0m\n\u001b[1;32m     19\u001b[0m     \u001b[0mn_entradas\u001b[0m \u001b[0;34m=\u001b[0m \u001b[0;36m2\u001b[0m\u001b[0;34m\u001b[0m\u001b[0;34m\u001b[0m\u001b[0m\n",
      "\u001b[0;31mKeyboardInterrupt\u001b[0m: "
     ]
    }
   ],
   "source": [
    "for j in range(50):\n",
    "    print('Sesion', j)\n",
    "    try:\n",
    "        # abrir Chrome\n",
    "        driver = webdriver.Chrome('./chromedriver')\n",
    "\n",
    "        for i in range(1000):\n",
    "            if sacar_entrada():\n",
    "                print('CORRE')\n",
    "                play_clip(clip_good, sleep=6)\n",
    "                break\n",
    "\n",
    "            else:\n",
    "                if i % 20 == 0:\n",
    "                    print(i, 'intentos: no hay ', datetime.datetime.now().ctime())\n",
    "                time.sleep(5)\n",
    "\n",
    "    except Exception as e:\n",
    "        print('ERROR', e, datetime.datetime.now().ctime()) \n",
    "        driver.close()\n",
    "        \n",
    "#        play_clip(clip_error, sleep=2, times=1)"
   ]
  },
  {
   "cell_type": "code",
   "execution_count": null,
   "metadata": {},
   "outputs": [],
   "source": []
  }
 ],
 "metadata": {
  "kernelspec": {
   "display_name": "Python 3",
   "language": "python",
   "name": "python3"
  },
  "language_info": {
   "codemirror_mode": {
    "name": "ipython",
    "version": 3
   },
   "file_extension": ".py",
   "mimetype": "text/x-python",
   "name": "python",
   "nbconvert_exporter": "python",
   "pygments_lexer": "ipython3",
   "version": "3.8.5"
  },
  "toc": {
   "base_numbering": 1,
   "nav_menu": {},
   "number_sections": true,
   "sideBar": true,
   "skip_h1_title": false,
   "title_cell": "Table of Contents",
   "title_sidebar": "Contents",
   "toc_cell": false,
   "toc_position": {},
   "toc_section_display": true,
   "toc_window_display": false
  },
  "varInspector": {
   "cols": {
    "lenName": 16,
    "lenType": 16,
    "lenVar": 40
   },
   "kernels_config": {
    "python": {
     "delete_cmd_postfix": "",
     "delete_cmd_prefix": "del ",
     "library": "var_list.py",
     "varRefreshCmd": "print(var_dic_list())"
    },
    "r": {
     "delete_cmd_postfix": ") ",
     "delete_cmd_prefix": "rm(",
     "library": "var_list.r",
     "varRefreshCmd": "cat(var_dic_list()) "
    }
   },
   "types_to_exclude": [
    "module",
    "function",
    "builtin_function_or_method",
    "instance",
    "_Feature"
   ],
   "window_display": false
  }
 },
 "nbformat": 4,
 "nbformat_minor": 2
}
